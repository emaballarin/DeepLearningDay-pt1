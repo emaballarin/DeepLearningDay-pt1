{
  "nbformat": 4,
  "nbformat_minor": 0,
  "metadata": {
    "colab": {
      "name": "NNdayipynb",
      "provenance": [],
      "collapsed_sections": []
    },
    "kernelspec": {
      "name": "python3",
      "display_name": "Python 3"
    }
  },
  "cells": [
    {
      "cell_type": "markdown",
      "metadata": {
        "id": "T0rBbK5Crg8Y"
      },
      "source": [
        "# AI2S Deep Learning Day\n",
        "## Introduction to PyTorch\n",
        "\n",
        "PyTorch is a Python library offering extensive support for the construction of deep Neural Networks (NNs).\n",
        "\n",
        "The main capabilities of PyTorch are:\n",
        "* the `Tensor` class: tensors are basically `N`-dimensional matrices. They extend the notion of matrix by adding additional dimensions to them. For instance, a 3-dimensional tensor can be thought of as an array of matrices all of the same size. The `Tensor` class in PyTorch supports auto-differentiation and is hence particularly useful for Machine Learning (ML) applications;\n",
        "* a large number of built-in modules for the creation of NNs: layers, loss and performance functions, optimizers...\n",
        "\n",
        "Along with PyTorch, we'll be using `torchvision`, which is an additional library supporting PyTorch for Computer Vision (CV) tasks.\n",
        "\n",
        "### Installing Python and PyTorch\n",
        "\n",
        "On Google Colab, all the libraries needed for the execution of this notebook are pre-installed.\n",
        "\n",
        "We recommend running this notebook on your local machine only for advanced users.\n",
        "\n",
        "## Handwritten digit recognition (MNIST dataset)\n",
        "\n",
        "In this notebook, we'll train a simple fully-connected NN for handwritten digit recognition on the MNIST dataset. \n",
        "Despite this task being simple and *cliché*, we hope to provide you with extensive instructions explaining in detail what each and every line of code does.\n",
        "\n",
        "**Good work!**\n",
        "\n",
        "Alessio Ansuini, AREA Research and Technology\n",
        "\n",
        "Andrea Gasparin and Marco Zullich, Artificial Intelligence Student Society"
      ]
    },
    {
      "cell_type": "markdown",
      "metadata": {
        "id": "LFN9aZkCjgID"
      },
      "source": [
        "### Importing the libraries\n",
        "\n",
        "All Python code starts with importing the due libraries.\n",
        "\n",
        "Despite it's not properly compulsory to import the libraries at the beginning of the script, it's good norm to do it for code readability.\n",
        "\n",
        "The libraries we'll necessitate are:\n",
        "* `torch`: the main module for PyTorch\n",
        "* `torchvision`: to provide support with MNIST\n",
        "* `matplotlib`: the classical Python library for plotting"
      ]
    },
    {
      "cell_type": "code",
      "metadata": {
        "id": "wNWs0AzhPtJa"
      },
      "source": [
        "import numpy as np\n",
        "import torch\n",
        "'''\n",
        "we may want to import specific modules from torch, e.g. nn (support for NNs).\n",
        "By doing this, we will be able to write things like `nn.Linear` instead of\n",
        "typing `torch.nn.Linear` every time.\n",
        "'''\n",
        "from torch import nn\n",
        "import torchvision\n",
        "import matplotlib.pyplot as plt"
      ],
      "execution_count": 1,
      "outputs": []
    },
    {
      "cell_type": "markdown",
      "metadata": {
        "id": "oXT6jWaZAVX8"
      },
      "source": [
        "#### Quick tour into `torch.Tensor`\n",
        "\n",
        "This part is **optional**, if you wish to jump immediately into action, feel free to just skip it\n",
        "\n",
        "`Tensor` is a powerful class for representing data and parameters structures.\n",
        "\n",
        "Here we offer a quick view of how to work with them."
      ]
    },
    {
      "cell_type": "code",
      "metadata": {
        "colab": {
          "base_uri": "https://localhost:8080/"
        },
        "id": "TGs8Pdz4Av7a",
        "outputId": "ff62d6b9-ae62-4527-a4f2-f6381d6d00ed"
      },
      "source": [
        "# Create a 3x4 matrix/Tensor\n",
        "A = torch.Tensor([\n",
        "                  [1,2,3,4],\n",
        "                  [5,6,8,7],\n",
        "                  [0,1,2,3]\n",
        "                 ])\n",
        "\n",
        "print(\"3x4 tensor:\\n\", A,\"\\n\")\n",
        "\n",
        "# You can get the shape of any tensor via tensor.shape or tensor.zize()\n",
        "\n",
        "print(\"Size of A:\", A.size(),\"\\n\")\n",
        "\n",
        "# Create a 3-dim tensor of ones: torch.ones(list of the dimensions)\n",
        "\n",
        "B = torch.ones([2,2,4])\n",
        "\n",
        "print(\"B is a vector of two 2x4 matrices:\\n\", B,\"\\n\")\n",
        "\n",
        "# Create a 3x3 random matrix, element from 0 to 1\n",
        "\n",
        "C = torch.rand([3,3])\n",
        "\n",
        "print(\"C is a random 3x3 matrix:\\n\", C, \"\\n\")"
      ],
      "execution_count": 2,
      "outputs": [
        {
          "output_type": "stream",
          "text": [
            "3x4 tensor:\n",
            " tensor([[1., 2., 3., 4.],\n",
            "        [5., 6., 8., 7.],\n",
            "        [0., 1., 2., 3.]]) \n",
            "\n",
            "Size of A: torch.Size([3, 4]) \n",
            "\n",
            "B is a vector of two 2x4 matrices:\n",
            " tensor([[[1., 1., 1., 1.],\n",
            "         [1., 1., 1., 1.]],\n",
            "\n",
            "        [[1., 1., 1., 1.],\n",
            "         [1., 1., 1., 1.]]]) \n",
            "\n",
            "C is a random 3x3 matrix:\n",
            " tensor([[0.6892, 0.7814, 0.9522],\n",
            "        [0.2501, 0.5889, 0.6872],\n",
            "        [0.8952, 0.7166, 0.0604]]) \n",
            "\n"
          ],
          "name": "stdout"
        }
      ]
    },
    {
      "cell_type": "code",
      "metadata": {
        "colab": {
          "base_uri": "https://localhost:8080/"
        },
        "id": "gzAlNUEDB7eR",
        "outputId": "5d21b55b-c516-4e8c-b2bf-dfe0010b3580"
      },
      "source": [
        "# We can slice (subset) a tensor by acting directly on their dimensions\n",
        "\n",
        "print(\"Element of A at position (1,2):\", A[1,2])\n",
        "\n",
        "# If we have a tensor which is a single scalar, we can enucleate it via .item()\n",
        "\n",
        "print(\"Scalar representation:\", A[1,2].item(), \"\\n\")\n",
        "\n",
        "# We can also extract rows/columns from matrices\n",
        "\n",
        "print(\"Second row of A:\", A[1])\n",
        "print(\"First column of A:\", A[:,0], \"\\n\")\n",
        "# The [:,0] means we're selecting ALL of the rows and the column w/ index 0\n",
        "\n",
        "# We can also modify elements this way\n",
        "\n",
        "B[0,0,0] = 4\n",
        "B[1,1,2] = 7\n",
        "B[0,0,2] = 10\n",
        "B[0,1,3] = 45\n",
        "print(\"New B:\\n\", B, \"\\n\")\n",
        "\n",
        "# Similarly, we can extract matrices from 3D tensors\n",
        "\n",
        "print(\"First dimension of B:\\n\", B[0], \"\\nIt's the first 2x4 matrix.\\n\")\n",
        "\n",
        "# And we can do more complicated stuff\n",
        "\n",
        "print(B[:,1], \"\\nThat'd be the second rows of both of B's matrices.\\n\")\n",
        "\n",
        "# And we can select ranges via \":\"\n",
        "\n",
        "print(\"Top-left 2x2 matrix within C:\\n\", C[0:2,0:2])\n",
        "print(\"It can be done also via C[:2,:2], omitting the zeros:\\n\", C[:2,:2], \"\\n\")\n",
        "\n",
        "# We can also use negative indices to refer to indices in reverse ordering\n",
        "\n",
        "print(\"Last row of C:\\n\", C[-1],\"\\n\")\n",
        "\n",
        "# We can use it in ranges as well\n",
        "\n",
        "print(\"First two rows of C using negative range:\\n\", C[-3:-1], \"\\n\")\n",
        "\n",
        "# Finally, we can use the \":\" notations for slicing FROM a given element to the last\n",
        "\n",
        "print(\"Can you recognize what B[:,:,1:] is? :)\\n\", B[:,:,1:])"
      ],
      "execution_count": 3,
      "outputs": [
        {
          "output_type": "stream",
          "text": [
            "Element of A at position (1,2): tensor(8.)\n",
            "Scalar representation: 8.0 \n",
            "\n",
            "Second row of A: tensor([5., 6., 8., 7.])\n",
            "First column of A: tensor([1., 5., 0.]) \n",
            "\n",
            "New B:\n",
            " tensor([[[ 4.,  1., 10.,  1.],\n",
            "         [ 1.,  1.,  1., 45.]],\n",
            "\n",
            "        [[ 1.,  1.,  1.,  1.],\n",
            "         [ 1.,  1.,  7.,  1.]]]) \n",
            "\n",
            "First dimension of B:\n",
            " tensor([[ 4.,  1., 10.,  1.],\n",
            "        [ 1.,  1.,  1., 45.]]) \n",
            "It's the first 2x4 matrix.\n",
            "\n",
            "tensor([[ 1.,  1.,  1., 45.],\n",
            "        [ 1.,  1.,  7.,  1.]]) \n",
            "That'd be the second rows of both of B's matrices.\n",
            "\n",
            "Top-left 2x2 matrix within C:\n",
            " tensor([[0.6892, 0.7814],\n",
            "        [0.2501, 0.5889]])\n",
            "It can be done also via C[:2,:2], omitting the zeros:\n",
            " tensor([[0.6892, 0.7814],\n",
            "        [0.2501, 0.5889]]) \n",
            "\n",
            "Last row of C:\n",
            " tensor([0.8952, 0.7166, 0.0604]) \n",
            "\n",
            "First two rows of C using negative range:\n",
            " tensor([[0.6892, 0.7814, 0.9522],\n",
            "        [0.2501, 0.5889, 0.6872]]) \n",
            "\n",
            "Can you recognize what B[:,:,1:] is? :)\n",
            " tensor([[[ 1., 10.,  1.],\n",
            "         [ 1.,  1., 45.]],\n",
            "\n",
            "        [[ 1.,  1.,  1.],\n",
            "         [ 1.,  7.,  1.]]])\n"
          ],
          "name": "stdout"
        }
      ]
    },
    {
      "cell_type": "code",
      "metadata": {
        "colab": {
          "base_uri": "https://localhost:8080/"
        },
        "id": "fQbx_guuFxyi",
        "outputId": "dad6351b-b376-44cb-aa73-967bfa9bbd7d"
      },
      "source": [
        "# A quick note on tensors operations\n",
        "\n",
        "# Scalar multiplication\n",
        "\n",
        "print(\"A*2:\\n\", A*2, \"\\n\")\n",
        "\n",
        "# Matrix multiplication (use \"@\")\n",
        "\n",
        "print(\"A^T * C:\\n\", A.t()@C, \"\\n\")\n",
        "\n",
        "# Sum of elements\n",
        "\n",
        "print(\"Sum of B:\", B.sum().item(), \"\\n\")\n",
        "\n",
        "# Flatten a matrix or tensor into an array\n",
        "\n",
        "print(\"C flattened:\", C.flatten())\n",
        "\n",
        "# There're many more built-in methods, we encourage you to explore them :)\n"
      ],
      "execution_count": 4,
      "outputs": [
        {
          "output_type": "stream",
          "text": [
            "A*2:\n",
            " tensor([[ 2.,  4.,  6.,  8.],\n",
            "        [10., 12., 16., 14.],\n",
            "        [ 0.,  2.,  4.,  6.]]) \n",
            "\n",
            "A^T * C:\n",
            " tensor([[1.9395, 3.7258, 4.3884],\n",
            "        [3.7739, 5.8127, 6.0883],\n",
            "        [5.8584, 8.4884, 8.4753],\n",
            "        [7.1927, 9.3975, 8.8007]]) \n",
            "\n",
            "Sum of B: 78.0 \n",
            "\n",
            "C flattened: tensor([0.6892, 0.7814, 0.9522, 0.2501, 0.5889, 0.6872, 0.8952, 0.7166, 0.0604])\n"
          ],
          "name": "stdout"
        }
      ]
    },
    {
      "cell_type": "markdown",
      "metadata": {
        "id": "Cxlr1WCCk2_Q"
      },
      "source": [
        "### Downloading the dataset\n",
        "\n",
        "As said before, `torchvision` can handle automatically the download of many datasets for CV, `MNIST` being one of them.\n",
        "\n",
        "#### Data preprocessing\n",
        "\n",
        "Before downloading the datasets, we must first set up a pipeline for data preparation: this can be done via `torchvision.transforms.Compose`, which lets us create an array of functions specifying a process through which every image of the dataset will go through.\n",
        "\n",
        "In our example, we'll be doing two specific operations on the images:\n",
        "1. Transforming the image to tensors: all the data being fed to PyTorch models must be in `Tensor` form. The `torchvision.transforms.ToTensor()` lets us easily convert images to `Tensor`s.\n",
        "2. Normalizing the dataset s.t. each piece of data (in our case, each image) has mean 0 and variance 1. This is not a compulsory operation, but it's recommended before training ML models. More [here](https://towardsdatascience.com/why-data-should-be-normalized-before-training-a-neural-network-c626b7f66c7d).\n",
        "\n",
        "#### Data download\n",
        "\n",
        "After establishing a preprocessing pipeline, we can start downloading the data.\n",
        "\n",
        "The MNIST dataset can be downloaded in two lines of code (one for the training set, the other for the test set), as seen in the cell below. `root` specifies where our data will be downloaded (or searched for, if already downloaded), the `train` switch is used to download the training or the test dataset.\n"
      ]
    },
    {
      "cell_type": "code",
      "metadata": {
        "id": "38_S5YWouPsL"
      },
      "source": [
        "transform = torchvision.transforms.Compose([\n",
        "        torchvision.transforms.ToTensor(),\n",
        "        torchvision.transforms.Normalize((0.1307,), (0.3081,)),\n",
        "    ])\n",
        "trainset = torchvision.datasets.MNIST(root=\"./data\", train=True, transform=transform, download=True)\n",
        "testset = torchvision.datasets.MNIST(root=\"./data\", train=False, transform=transform, download=True)"
      ],
      "execution_count": 5,
      "outputs": []
    },
    {
      "cell_type": "markdown",
      "metadata": {
        "id": "wRd_EKv1m4tY"
      },
      "source": [
        "### Separating the images from the labels\n",
        "\n",
        "Since MNIST is a thought for supervised ML, the dataset is composed of two entities:\n",
        "* the images, contained in `trainset.data` or `testset.data`: they're decoded as tensors of shape 28x28, this being the height and width dimension. MNIST is a set of black/white images; usually, color images are decoded as 3x`h`x`w` tensors: 3 is the number of channels (Red+Green+Blue), `h` and `w` are the height and width of the images, basically, an array of three matrices;\n",
        "* the labels, contained in `trainset.targets` or `testset.targets`: these indicate the true class (i.e., the handwritten number) to which each image belong.\n",
        "\n"
      ]
    },
    {
      "cell_type": "code",
      "metadata": {
        "id": "tvmmGdH_n9M4"
      },
      "source": [
        "train_imgs = trainset.data\n",
        "train_labels = trainset.targets\n",
        "test_imgs = testset.data\n",
        "test_labels = testset.targets"
      ],
      "execution_count": 6,
      "outputs": []
    },
    {
      "cell_type": "code",
      "metadata": {
        "colab": {
          "base_uri": "https://localhost:8080/",
          "height": 282
        },
        "id": "F-eNtV8ooXX4",
        "outputId": "7e224e41-f79d-4c7b-de18-2e4f5145b2d4"
      },
      "source": [
        "# We can visualize our data\n",
        "first_img = train_imgs[0]\n",
        "plt.imshow(first_img, cmap=\"Greys\")\n",
        "# and get the true class of the image\n",
        "# note that the `item()` is used to get the scalar value out of the Tensor\n",
        "train_labels[0].item()"
      ],
      "execution_count": 7,
      "outputs": [
        {
          "output_type": "execute_result",
          "data": {
            "text/plain": [
              "5"
            ]
          },
          "metadata": {
            "tags": []
          },
          "execution_count": 7
        },
        {
          "output_type": "display_data",
          "data": {
            "text/plain": [
              "<Figure size 432x288 with 1 Axes>"
            ],
            "image/png": "[encoded data removed]"
          },
          "metadata": {
            "tags": [],
            "needs_background": "light"
          }
        }
      ]
    },
    {
      "cell_type": "markdown",
      "metadata": {
        "id": "L3RDJ-xcqp0h"
      },
      "source": [
        "### Creating the NN\n",
        "\n",
        "We create the NN as in the image below:\n",
        "* the **input layer** has 784 neurons: we need to *flatten* each image in a vector in order to pass it through the fully-connected NN, which does not allow for *n*-dimensional shaped input. Since images in MNIST have size 28x28, that means we'll need 784 neurons to pass them as input to the NN;\n",
        "* there're three **hidden layers**: the first one has 16 neurons, the second one has 32, the first one has 16 again;\n",
        "* the **output layer** has 10 neurons, one per class.\n",
        "\n",
        "The NN can be easily created using the `torch.nn.Sequential` method, which allows for the construction of the NN by pipelining the building blocks in a list and passing it to the Sequential constructor.\n",
        "\n",
        "`nn.Sequential` objects automatically build the `forward` and `backward` methods (needed for the forward and backward pass respectively) from their building blocks (which are built-in PyTorch objects already having pre-defined `forward` and `backward` methods) by composing them.\n",
        "\n",
        "We pass to Sequential the following elements:\n",
        "* we start with a `Flatten()` module since we need to flatten the 2D images into a 1D array\n",
        "* we alternate `Linear` layers (fully-connected layers) with `ReLU` modules (Rectified Linear Unit) activation functions\n",
        "* we conclude with a `Linear` layer without activation function: this will output, for each image, an array of 10 scalars, each one indicating the \"confidence\" that the network has in assigning the input image to the corresponding class. We'll assign the image to the class having the highest confidence.\n",
        "\n",
        "After this, the architecture of the NN is complete! We will then focus on telling Python how to train this NN.\n"
      ]
    },
    {
      "cell_type": "code",
      "metadata": {
        "id": "JmC_ZXSN9WMA"
      },
      "source": [
        "inputDimension = first_img.size(0) * first_img.size(1)\n",
        "outputDimension = 10 # the number of classes - 10 digits from 0 to 9\n",
        "layersWidth = 16 \n",
        "\n",
        "\n",
        "network = nn.Sequential(\n",
        "    nn.Flatten(),\n",
        "    nn.Linear(inputDimension, layersWidth),\n",
        "    nn.ReLU(),\n",
        "    nn.Linear(layersWidth, layersWidth*2),\n",
        "    nn.ReLU(),\n",
        "    nn.Linear(layersWidth*2, layersWidth),\n",
        "    nn.ReLU(),\n",
        "    nn.Linear(layersWidth, outputDimension),\n",
        ")\n"
      ],
      "execution_count": 8,
      "outputs": []
    },
    {
      "cell_type": "markdown",
      "metadata": {
        "id": "YwRDLf0qsryb"
      },
      "source": [
        "### NN training\n",
        "\n",
        "We'll use vanilla mini-batch Stochastic Gradient Descent (SGD) with a learning rate of ... as the optimizer.\n",
        "\n",
        "We'll create mini-batches of size 100 (i.e., we'll have 60000/100=600 mini-batches containing our data) for the training.\n",
        "\n",
        "We'll train the NN for 10 epochs, each epoch indicating how many times the NN \"sees\" the whole dataset during training.\n",
        "\n",
        "The loss function we'll use is the **categorical cross-entropy** (particularly useful for non-binary classification problems) and we'll also evaluate the network on its **accuracy** (i.e., images correctly classified divided by total images)."
      ]
    },
    {
      "cell_type": "code",
      "metadata": {
        "id": "BPV_3B4r9mfC"
      },
      "source": [
        "#hyper parameters\n",
        "\n",
        "batchSize = 100\n",
        "learningRate = 0.1\n",
        "epochs = 10"
      ],
      "execution_count": 9,
      "outputs": []
    },
    {
      "cell_type": "code",
      "metadata": {
        "id": "fbAn3ck02KNd"
      },
      "source": [
        "optimizer = torch.optim.SGD(network.parameters(), lr=learningRate)"
      ],
      "execution_count": 10,
      "outputs": []
    },
    {
      "cell_type": "markdown",
      "metadata": {
        "id": "rVOsHrurFbVl"
      },
      "source": [
        "In order to pass our data to the network, we'll make use of DataLoaders: they take care of subdividing the dataset into mini-batches, applying the requested transformations, and optionally re-shuffling them at the beginning of each new epoch."
      ]
    },
    {
      "cell_type": "code",
      "metadata": {
        "id": "z53gNQl5Dpzk"
      },
      "source": [
        "trainloader = torch.utils.data.DataLoader(trainset, batch_size=100, shuffle=True)\n",
        "testloader = torch.utils.data.DataLoader(testset, batch_size=100, shuffle=False)"
      ],
      "execution_count": 11,
      "outputs": []
    },
    {
      "cell_type": "code",
      "metadata": {
        "colab": {
          "base_uri": "https://localhost:8080/"
        },
        "id": "6JPf5ihctd3R",
        "outputId": "5cb3b377-8664-4231-a288-92e04930f3a0"
      },
      "source": [
        "'''\n",
        "To flatten the images we use the reshape method of tensors.\n",
        "It requires as arguments the new dimensions of the tensor.\n",
        "Of course, the number of elements before and after must remain the same.\n",
        "For instance, a 2x5x7 tensor can be reshaped into a 7x10 tensor, while\n",
        "it can't be reshaped into a 2x6x3 tensor.\n",
        "\n",
        "We also convert the resulting tensor from integer to float since PyTorch NNs\n",
        "require floats as inputs.\n",
        "'''\n",
        "train_imgs_flat = train_imgs.reshape(train_imgs.size(0), train_imgs.size(1)*train_imgs.size(2)).float()\n",
        "test_imgs_flat = test_imgs.view(test_imgs.size(0), test_imgs.size(1)*test_imgs.size(2)).float()\n",
        "# Just a quick check that the shape of the tensor is correct\n",
        "train_imgs_flat.shape"
      ],
      "execution_count": 12,
      "outputs": [
        {
          "output_type": "execute_result",
          "data": {
            "text/plain": [
              "torch.Size([60000, 784])"
            ]
          },
          "metadata": {
            "tags": []
          },
          "execution_count": 12
        }
      ]
    },
    {
      "cell_type": "code",
      "metadata": {
        "colab": {
          "base_uri": "https://localhost:8080/"
        },
        "id": "goRe1o9Zv7io",
        "outputId": "356b0f95-b0ed-4770-de38-eb7bbbaa3154"
      },
      "source": [
        "torch.Tensor([[1,2,3,4,5,1],[4,1,1,1,1,1]]).topk(1).indices\n",
        "train_labels[:2]"
      ],
      "execution_count": 13,
      "outputs": [
        {
          "output_type": "execute_result",
          "data": {
            "text/plain": [
              "tensor([5, 0])"
            ]
          },
          "metadata": {
            "tags": []
          },
          "execution_count": 13
        }
      ]
    },
    {
      "cell_type": "markdown",
      "metadata": {
        "id": "n6Phm1FVu51C"
      },
      "source": [
        "Before training, we still need to define the performance function, the accuracy.\n",
        "\n",
        "We define it by comparing the output of the NN for a given batch of data with the ground truth.\n",
        "\n",
        "Since the output of the NN for how we built it is not the class, but a vector proportional to the probability that the given image will be assigned to each class, we first need to obtain the class prediction for each image in the batch.\n",
        "\n",
        "In practical terms: if we have an image whose NN output is a Tensor with values 0.15, 0.82, 3.01, 0.01, it means that we'll assign this image to the third class.\n",
        "\n",
        "This can be quickly carried out on PyTorch via the tensor method `topk`, which lets us select the top *k* predictions of the NN for each observation/image.\n",
        "\n",
        "`topk` returns an object with two items: the elements in the top *k* positions and the indices of these elements. We're interested only in the indices, which are the classes to which the images are assigned by the NN.\n",
        "We need to `flatten` the corresponding tensor since it comes in the form of a column vector, while we need a \"classic\" array.\n",
        "\n",
        "To match the class predictions with the ground truth we simply code `class_prediction == ground_truth`. This will return an array of booleans stating, for each element, whether the image was classified correctly (in case the element will be `True`) or incorrectly (`False`).\n",
        "\n",
        "To get the accuracy, we'll just need to sum the elements of this array (`True` will be converted to 1, `False` to 0) and divide the corresponding number by the number of elements in the batch."
      ]
    },
    {
      "cell_type": "code",
      "metadata": {
        "id": "3rWFN7MtvruR"
      },
      "source": [
        "def calculate_accuracy(nn_output, ground_truth):\n",
        "    # get the NN classification for each image in the batch\n",
        "    class_prediction = nn_output.topk(1).indices.flatten()\n",
        "    # match with the corresponding ground truth\n",
        "    match = (class_prediction == ground_truth)\n",
        "    # get number of correctly classified observations. \n",
        "    # item() is used to get the scalar out of the resulting tensor\n",
        "    correctly_classified = match.sum().item()\n",
        "    # accuracy is the number of correctly classified observations divided by\n",
        "    # the number of elements in the batch\n",
        "    accuracy = correctly_classified / nn_output.size(0)\n",
        "    # also OK: correctly_classified / ground_truth.size(0) since these two\n",
        "    # tensors have the same first dimension.\n",
        "    return accuracy"
      ],
      "execution_count": 14,
      "outputs": []
    },
    {
      "cell_type": "markdown",
      "metadata": {
        "id": "I4Rn7yX06LxL"
      },
      "source": [
        "Let's check that it works for a fictitious batch of 4 images and 3 classes.\n",
        "\n",
        "A NN output in this case will be a matrix of shape 4x3, each row holding the probability that the model assigns the corresponding image to the corresponding class.\n",
        "\n",
        "We create a fake ground truth s.t. the NN assigns correctly the first 3 images: the corresponding accuracy should then be 3/4=0.75\n"
      ]
    },
    {
      "cell_type": "code",
      "metadata": {
        "colab": {
          "base_uri": "https://localhost:8080/"
        },
        "id": "d4pgWSnk5nNK",
        "outputId": "704fc7d4-8cdb-4b1a-a5cf-b4f110246345"
      },
      "source": [
        "fake_nn_output = torch.Tensor([\n",
        "                               [1.01,0.25,3],\n",
        "                               [0,0.54,1.11],\n",
        "                               [3.25,0.25,0.15],\n",
        "                               [2.01,3.04,2.11]\n",
        "                              ])\n",
        "fake_ground_truth = torch.Tensor([2,2,1,1])\n",
        "calculate_accuracy(fake_nn_output, fake_ground_truth)"
      ],
      "execution_count": 15,
      "outputs": [
        {
          "output_type": "execute_result",
          "data": {
            "text/plain": [
              "0.75"
            ]
          },
          "metadata": {
            "tags": []
          },
          "execution_count": 15
        }
      ]
    },
    {
      "cell_type": "markdown",
      "metadata": {
        "id": "EzUz_tOA0E8i"
      },
      "source": [
        "Before training the NN, we'll prepare two empty lists to store the values for loss and accuracy and get some integers to simplify calculations inside the training loop.\n",
        "\n",
        "The training is operated in two **nested loops**, one for the epoch, one for the mini-batch.\n",
        "\n",
        "Ideally, at each epoch, the training set is randomly split in mini-batches which are passed on to the NN, one for each iteration within the single epoch (mini-batch loop).\n",
        "**We will not be doing this here in order to keep things simple**.\n",
        "\n",
        "In each one of those iterations:\n",
        "* we get the output of the NN for each image within the mini-batch\n",
        "* we calculate the loss by matching the output with the ground truth\n",
        "* we backpropagate the gradient of the loss for each NN parameter by calling `loss.backward()`\n",
        "* we advance further downward in the landscape of the loss by calling `optimizer.step()`: the optimizer will take a step in the directon calculated within the mini-batch\n",
        "* we also evaluate the accuracy, but this passage is optional since not strictly needed to the calculation of the loss."
      ]
    },
    {
      "cell_type": "code",
      "metadata": {
        "id": "1ckxFt2YSdm8",
        "colab": {
          "base_uri": "https://localhost:8080/"
        },
        "outputId": "b2d2bf19-9913-4e48-c0bb-46ca304b797f"
      },
      "source": [
        "lossValues = []\n",
        "accuracy = []\n",
        "lossFunction = torch.nn.CrossEntropyLoss()\n",
        "N = train_imgs_flat.size(0)\n",
        "num_of_batches = int(N/batchSize)\n",
        "\n",
        "# this is important, it sets the NN in training mode, enabling the accumulation\n",
        "# of gradients and some other stuff, like the application of batch normalization\n",
        "# which right now we're not using.\n",
        "network.train()\n",
        "\n",
        "# MAIN LOOP: one iteration for each epoch\n",
        "for e in range(epochs):\n",
        "    # INNER LOOP: one for each MINI-BATCH\n",
        "    for i, (imgs, ground_truth) in enumerate(trainloader): #range(num_of_batches):\n",
        "\n",
        "      # zero-out the gradient of the NN's parameters - needed in order NOT to \n",
        "      # accumulate gradients on top of the previous epochs\n",
        "      optimizer.zero_grad()\n",
        "\n",
        "      \n",
        "      predictions = network(imgs)\n",
        "\n",
        "      loss = lossFunction(predictions, ground_truth)\n",
        "      \n",
        "      loss.backward()\n",
        "      optimizer.step()\n",
        "      \n",
        "      accuracy_batch = calculate_accuracy(predictions, ground_truth)\n",
        "\n",
        "      lossValues.append(loss.item())\n",
        "      accuracy.append(accuracy_batch)\n",
        "      \n",
        "      # Every 200 iterations, we print the status of loss and accuracy\n",
        "      if (i+1)%200 == 0:\n",
        "        print(f\"***Epoch {e+1} | Iteration {i+1} | Mini-batch loss {loss.item()} | Mini-batch accuracy {accuracy_batch}\")"
      ],
      "execution_count": 16,
      "outputs": [
        {
          "output_type": "stream",
          "text": [
            "***Epoch 1 | Iteration 200 | Mini-batch loss 0.33818766474723816 | Mini-batch accuracy 0.88\n",
            "***Epoch 1 | Iteration 400 | Mini-batch loss 0.2580600380897522 | Mini-batch accuracy 0.92\n",
            "***Epoch 1 | Iteration 600 | Mini-batch loss 0.2764531672000885 | Mini-batch accuracy 0.91\n",
            "***Epoch 2 | Iteration 200 | Mini-batch loss 0.2209852784872055 | Mini-batch accuracy 0.94\n",
            "***Epoch 2 | Iteration 400 | Mini-batch loss 1.1793127059936523 | Mini-batch accuracy 0.66\n",
            "***Epoch 2 | Iteration 600 | Mini-batch loss 0.8513714671134949 | Mini-batch accuracy 0.76\n",
            "***Epoch 3 | Iteration 200 | Mini-batch loss 0.780179500579834 | Mini-batch accuracy 0.76\n",
            "***Epoch 3 | Iteration 400 | Mini-batch loss 1.0799579620361328 | Mini-batch accuracy 0.6\n",
            "***Epoch 3 | Iteration 600 | Mini-batch loss 0.3720437288284302 | Mini-batch accuracy 0.89\n",
            "***Epoch 4 | Iteration 200 | Mini-batch loss 0.712603747844696 | Mini-batch accuracy 0.79\n",
            "***Epoch 4 | Iteration 400 | Mini-batch loss 0.6057194471359253 | Mini-batch accuracy 0.8\n",
            "***Epoch 4 | Iteration 600 | Mini-batch loss 0.618008017539978 | Mini-batch accuracy 0.85\n",
            "***Epoch 5 | Iteration 200 | Mini-batch loss 0.4204581081867218 | Mini-batch accuracy 0.88\n",
            "***Epoch 5 | Iteration 400 | Mini-batch loss 0.36778467893600464 | Mini-batch accuracy 0.85\n",
            "***Epoch 5 | Iteration 600 | Mini-batch loss 0.2448340654373169 | Mini-batch accuracy 0.91\n",
            "***Epoch 6 | Iteration 200 | Mini-batch loss 0.2503935992717743 | Mini-batch accuracy 0.93\n",
            "***Epoch 6 | Iteration 400 | Mini-batch loss 0.3717493414878845 | Mini-batch accuracy 0.91\n",
            "***Epoch 6 | Iteration 600 | Mini-batch loss 0.3055453300476074 | Mini-batch accuracy 0.93\n",
            "***Epoch 7 | Iteration 200 | Mini-batch loss 0.26837465167045593 | Mini-batch accuracy 0.9\n",
            "***Epoch 7 | Iteration 400 | Mini-batch loss 0.278661847114563 | Mini-batch accuracy 0.91\n",
            "***Epoch 7 | Iteration 600 | Mini-batch loss 0.1667662113904953 | Mini-batch accuracy 0.98\n",
            "***Epoch 8 | Iteration 200 | Mini-batch loss 0.21037136018276215 | Mini-batch accuracy 0.93\n",
            "***Epoch 8 | Iteration 400 | Mini-batch loss 0.1822012960910797 | Mini-batch accuracy 0.94\n",
            "***Epoch 8 | Iteration 600 | Mini-batch loss 0.18400411307811737 | Mini-batch accuracy 0.93\n",
            "***Epoch 9 | Iteration 200 | Mini-batch loss 0.24869279563426971 | Mini-batch accuracy 0.94\n",
            "***Epoch 9 | Iteration 400 | Mini-batch loss 0.20035022497177124 | Mini-batch accuracy 0.92\n",
            "***Epoch 9 | Iteration 600 | Mini-batch loss 0.13069342076778412 | Mini-batch accuracy 0.94\n",
            "***Epoch 10 | Iteration 200 | Mini-batch loss 0.2347344011068344 | Mini-batch accuracy 0.93\n",
            "***Epoch 10 | Iteration 400 | Mini-batch loss 0.18144410848617554 | Mini-batch accuracy 0.93\n",
            "***Epoch 10 | Iteration 600 | Mini-batch loss 0.04693707078695297 | Mini-batch accuracy 1.0\n"
          ],
          "name": "stdout"
        }
      ]
    },
    {
      "cell_type": "code",
      "metadata": {
        "id": "te6orMhwh3v3",
        "colab": {
          "base_uri": "https://localhost:8080/",
          "height": 282
        },
        "outputId": "59bb720d-3927-4467-df12-15f64aac6e3f"
      },
      "source": [
        "# Let us draw the charts for loss and accuracy for each training iteration\n",
        "plt.plot(lossValues, label=\"loss\")\n",
        "plt.plot(accuracy, label=\"accuracy\")\n",
        "plt.legend()"
      ],
      "execution_count": 17,
      "outputs": [
        {
          "output_type": "execute_result",
          "data": {
            "text/plain": [
              "<matplotlib.legend.Legend at 0x7fe01028df10>"
            ]
          },
          "metadata": {
            "tags": []
          },
          "execution_count": 17
        },
        {
          "output_type": "display_data",
          "data": {
            "text/plain": [
              "<Figure size 432x288 with 1 Axes>"
            ],
            "image/png": "[encoded data removed]"
          },
          "metadata": {
            "tags": [],
            "needs_background": "light"
          }
        }
      ]
    },
    {
      "cell_type": "markdown",
      "metadata": {
        "id": "INd2wpCPN1aH"
      },
      "source": [
        "### Testing the network\n",
        "\n",
        "The network's testing is similar to the training phase.\n",
        "\n",
        "The 2 main differences are:\n",
        "* we'll average the loss and the accuracy through all of the mini-batch loop to produce an estimate for **all** of the test dataset\n",
        "* we activate the network's `eval` mode to disable the gradient accumulation\n"
      ]
    },
    {
      "cell_type": "code",
      "metadata": {
        "id": "bDQ0g5WSqdph",
        "colab": {
          "base_uri": "https://localhost:8080/"
        },
        "outputId": "1db2fcea-e75d-4f7e-d228-a5de3c3f0f9e"
      },
      "source": [
        "# test the network\n",
        "network.eval()\n",
        "\n",
        "# MAIN LOOP: one iteration for each epoch\n",
        "for e in range(epochs):\n",
        "    running_loss = 0.0\n",
        "    running_accuracy = 0.0\n",
        "    # INNER LOOP: one for each MINI-BATCH\n",
        "    for imgs, ground_truth in testloader:\n",
        "\n",
        "      # zero-out the gradient of the NN's parameters - needed in order NOT to \n",
        "      # accumulate gradients on top of the previous epochs\n",
        "      optimizer.zero_grad()\n",
        "\n",
        "      predictions = network(imgs)\n",
        "\n",
        "      loss = lossFunction(predictions, ground_truth)\n",
        "      running_loss += loss.item()\n",
        "      \n",
        "      accuracy_batch = calculate_accuracy(predictions, ground_truth)\n",
        "      running_accuracy += accuracy_batch*imgs.size(0)\n",
        "\n",
        "test_loss = running_loss\n",
        "test_accuracy = running_accuracy/test_imgs.size(0)\n",
        "print(f\"---TEST - Loss: {test_loss} | Accuracy: {test_accuracy}\")"
      ],
      "execution_count": 18,
      "outputs": [
        {
          "output_type": "stream",
          "text": [
            "---TEST - Loss: 20.806594159570523 | Accuracy: 0.9403\n"
          ],
          "name": "stdout"
        }
      ]
    },
    {
      "cell_type": "markdown",
      "metadata": {
        "id": "w210ZBlTw5FG"
      },
      "source": [
        "### Identifying misclassified examples\n",
        "\n",
        "We may want to identify a given number of misclassified images.\n",
        "\n",
        "To do this, we need to loop through the test (or train) set and identify where the model has done wrong and store the corresponding image, predicted label and true label.\n"
      ]
    },
    {
      "cell_type": "code",
      "metadata": {
        "id": "4HsZX66UxKbF"
      },
      "source": [
        "K = 6 # no. of misclassified images we wish to find\n",
        "\n",
        "misclassified_images = torch.zeros(K, 28, 28) # here we'll put the misclassified examples\n",
        "misclassified_labels = torch.zeros(K) # here we'll put the corresponding model's prediction\n",
        "ground_truth_miss = torch.zeros(K) # and here the corresponding ground truth\n",
        "\n",
        "network.eval()\n",
        "k = 0 # counter for misclassified images\n",
        "for imgs, ground_truth in testloader:\n",
        "  class_pred = network(imgs).topk(1).indices.flatten()\n",
        "  match = (class_pred != ground_truth)\n",
        "  # we can slice the mini-batch by passing the match tensor as slicing condition\n",
        "  # this is possible because `match` is an array of booleans \n",
        "  # this mean that, when used to slice another tensor, we'll keep only the\n",
        "  # indices where `match` is true\n",
        "  misclass_batch = imgs[match]\n",
        "  misclass_labels_batch = class_pred[match]\n",
        "  ground_truth_miss_batch = ground_truth[match]\n",
        "\n",
        "  m = len(misclass_batch)\n",
        "  if m + k >= K:\n",
        "    # there're more misclassified images in the batch than the ones we want\n",
        "    # -> we need to slice the misclassified images\n",
        "    misclassified_images[k:K] = misclass_batch[:K-k].reshape(K - k, 28, 28)\n",
        "    misclassified_labels[k:K] = misclass_labels_batch[:K-k]\n",
        "    ground_truth_miss[k:K] = ground_truth_miss_batch[:K-k]\n",
        "    # stop the loop\n",
        "    break\n",
        "  else:\n",
        "    # simply add the misclassified images to the list\n",
        "    misclassified_images[k:k+m] = misclass_batch.reshape(m, 28, 28)\n",
        "    misclassified_labels[k:k+m] = misclass_labels_batch\n",
        "    ground_truth_miss[k:k+m] = ground_truth_miss_batch\n",
        "  \n",
        "  k += m"
      ],
      "execution_count": 19,
      "outputs": []
    },
    {
      "cell_type": "code",
      "metadata": {
        "colab": {
          "base_uri": "https://localhost:8080/",
          "height": 1000
        },
        "id": "09-tvCqL2UhW",
        "outputId": "6871f9c8-5dea-40cf-a326-3eb05bbb9f3a"
      },
      "source": [
        "# we can now plot the misclassified examples\n",
        "for i in range(K):\n",
        "  plt.imshow(misclassified_images[i], cmap=\"Greys\")\n",
        "  plt.title(f\"True: {ground_truth_miss[i]} Predicted: {misclassified_labels[i]}\")\n",
        "  plt.show()"
      ],
      "execution_count": 20,
      "outputs": [
        {
          "output_type": "display_data",
          "data": {
            "text/plain": [
              "<Figure size 432x288 with 1 Axes>"
            ],
            "image/png": "[encoded data removed]"
          },
          "metadata": {
            "tags": [],
            "needs_background": "light"
          }
        },
        {
          "output_type": "display_data",
          "data": {
            "text/plain": [
              "<Figure size 432x288 with 1 Axes>"
            ],
            "image/png": "[encoded data removed]"
          },
          "metadata": {
            "tags": [],
            "needs_background": "light"
          }
        },
        {
          "output_type": "display_data",
          "data": {
            "text/plain": [
              "<Figure size 432x288 with 1 Axes>"
            ],
            "image/png": "[encoded data removed]"
          },
          "metadata": {
            "tags": [],
            "needs_background": "light"
          }
        },
        {
          "output_type": "display_data",
          "data": {
            "text/plain": [
              "<Figure size 432x288 with 1 Axes>"
            ],
            "image/png": "[encoded data removed]"
          },
          "metadata": {
            "tags": [],
            "needs_background": "light"
          }
        },
        {
          "output_type": "display_data",
          "data": {
            "text/plain": [
              "<Figure size 432x288 with 1 Axes>"
            ],
            "image/png": "[encoded data removed]"
          },
          "metadata": {
            "tags": [],
            "needs_background": "light"
          }
        },
        {
          "output_type": "display_data",
          "data": {
            "text/plain": [
              "<Figure size 432x288 with 1 Axes>"
            ],
            "image/png": "[encoded data removed]"
          },
          "metadata": {
            "tags": [],
            "needs_background": "light"
          }
        }
      ]
    },
    {
      "cell_type": "markdown",
      "metadata": {
        "id": "igZ277lQjiT6"
      },
      "source": [
        "## Tips for cleaner code\n",
        "\n",
        "Usually in PyTorch we follow this convention:\n",
        "* the training/testing loop for the **mini-batch** are stored inside functions (e.g. `train()` and `test()`)\n",
        "* the whole epoch loop for training calls the `train()` function for each epoch\n",
        "* the NN is wrapped in a class inheriting from `nn.Module`, the architecture is built within the constructor and a function `forward` is coded that specifies how the forward pass is executed (btw, the function `backward()` is automatically constructed by PyTorch, on the other hand). An example for that is shown in the next cell"
      ]
    },
    {
      "cell_type": "code",
      "metadata": {
        "id": "worZJ12jG9TI"
      },
      "source": [
        "class MyNetwork(nn.Module):\n",
        "\n",
        "  def __init__(self, inputDimension, layersWidth, outputDimension):\n",
        "    # call nn.Module's constructor\n",
        "    super().__init__()\n",
        "\n",
        "    # initialize network's architecture as class object\n",
        "    self.network = nn.Sequential(\n",
        "                    nn.Flatten(),\n",
        "                    nn.Linear(inputDimension, layersWidth),\n",
        "                    nn.ReLU(),\n",
        "                    nn.Linear(layersWidth, layersWidth*2),\n",
        "                    nn.ReLU(),\n",
        "                    nn.Linear(layersWidth*2, layersWidth),\n",
        "                    nn.ReLU(),\n",
        "                    nn.Linear(layersWidth, outputDimension),\n",
        "                  )\n",
        "    \n",
        "  def forward(self, X):\n",
        "    # to execute the forward pass, just pass the input X to the network module\n",
        "    return self.network(X)"
      ],
      "execution_count": 21,
      "outputs": []
    },
    {
      "cell_type": "markdown",
      "metadata": {
        "id": "8zk_4lpslXG0"
      },
      "source": [
        "## More complex stuff\n",
        "\n",
        "There might be some advanced pieces to fit in our NN that could greatly improve performance.\n",
        "\n",
        "### Optimizers\n",
        "\n",
        "More advanced optimizers:\n",
        "* SGD with momentum (allow for smoother trajectory of the optimizer in the loss valley): just add the keywork `momentum` to the constructor of `SGD`. Good values are usually 0.9 or 0.99.\n",
        "* AdaM (a more complex optimizer that *should* adapt the learning rate as we proceed with the training): use `torch.optim.Adam(...)`. Sometimes it works better than SGD with momentum.\n",
        "\n",
        "### Regularization\n",
        "\n",
        "It is recommended to add a regularization term to the NNs. This is a penalty which is added to the loss and avoids the inflation of weights in order to keep the network from overfitting. The most employed regularization used is the L2-norm regolarization, which in Deep Learning is more often called **weight decay**. In PyTorch you can add it to the optimizer by means the keyword `weight_decay` in the optimizer constructor.\n",
        "\n",
        "Additional regularization can be obtained by means the **normalization layers**. A common choice is the batch regularization, which can be operated via the `torch.nn.BatchNorm1d` module, to add after any `Linear` layer one might want to. There exist many types of normalization layers, for more info please check [this page](https://atcold.github.io/pytorch-Deep-Learning/en/week05/05-2/).\n",
        "\n",
        "### Dropout\n",
        "\n",
        "Dropout randomly removes some neurons from a layer during the forward pass when training. It has been shown to aid generalization. You can add it via the module `torch.nn.Dropout(p)` where `p` is the probability that each single neuron is dropped. It must be added after the activation function and the possible batch norm module.\n",
        "\n",
        "## Architecture\n",
        "\n",
        "When working with images, **Convolutional Neural Networks (CNNs)** have shown to perform much better than fully-connected ones for a variety of reasons, one being that they support 3D structured input like images (color channels + spatial dimensions) and are able to recognize low-level features (corners, orientation, color) in ways which resemble what our brain does during low-level vision. Our tutorial will not cover CNNs, although you can find plenty of resources online to build one.\n",
        "\n",
        "Mainly, you need to use two building blocks:\n",
        "* the `torch.nn.Conv2d` module\n",
        "* the `torch.nn.MaxPool2d` module\n",
        "\n",
        "Below you can find a sample structure for a CNN. If you feel adventurous, try using it by fitting the pieces together :)\n",
        "\n",
        "Remember to modify your training and test set in order to add an extra dimension at the start, since PyTorch will expect a 4D matrix of shape Nx1x28x28 as input of the tensor, where N is the size of the batch/dataset. This can be achieved by calling `train_imgs.reshape(N, 1, 28, 28)`. Then remember to reload the Dataloaders.\n",
        "\n"
      ]
    },
    {
      "cell_type": "code",
      "metadata": {
        "id": "Z4Ve3vMVp4Ea"
      },
      "source": [
        "class MyCNN(nn.Module):\n",
        "  def __init__(self, outputDimension=10):\n",
        "    # call nn.Module's constructor\n",
        "    super().__init__()\n",
        "\n",
        "    # initialize network's architecture as class object\n",
        "    self.features = nn.Sequential(\n",
        "                    nn.Conv2d(1, 5, kernel_size=3, padding=1),\n",
        "                    nn.BatchNorm2d(5),\n",
        "                    nn.ReLU(),\n",
        "                    nn.Conv2d(5, 5, kernel_size=3, padding=1),\n",
        "                    nn.BatchNorm2d(5),\n",
        "                    nn.ReLU(),\n",
        "                    nn.MaxPool2d(kernel_size=2, stride=2),\n",
        "\n",
        "                    nn.Conv2d(5, 5*2, kernel_size=3, padding=1),\n",
        "                    nn.BatchNorm2d(5*2),\n",
        "                    nn.ReLU(),\n",
        "                    nn.Conv2d(5*2, 5*2, kernel_size=3, padding=1),\n",
        "                    nn.BatchNorm2d(5*2),\n",
        "                    nn.ReLU(),\n",
        "                    nn.MaxPool2d(kernel_size=2, stride=2),\n",
        "                  )\n",
        "    \n",
        "    self.classifier = nn.Sequential(\n",
        "                    nn.Flatten(),\n",
        "                    nn.Linear(in_features=980, out_features=10) \n",
        "                  )\n",
        "    \n",
        "  def forward(self, X):\n",
        "    X = self.features(X)\n",
        "    X = self.classifier(X)\n",
        "    return X  "
      ],
      "execution_count": 22,
      "outputs": []
    }
  ]
}