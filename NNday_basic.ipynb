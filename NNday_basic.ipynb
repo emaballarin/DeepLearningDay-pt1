{
  "nbformat": 4,
  "nbformat_minor": 0,
  "metadata": {
    "colab": {
      "name": "NNdayipynb basic",
      "provenance": [],
      "collapsed_sections": []
    },
    "kernelspec": {
      "name": "python3",
      "display_name": "Python 3"
    }
  },
  "cells": [
    {
      "cell_type": "markdown",
      "metadata": {
        "id": "T0rBbK5Crg8Y"
      },
      "source": [
        "# AI2S Deep Learning Day - Beginners notebook\n",
        "<sub>Alessio Ansuini, AREA Research and Technology</sub>\n",
        "\n",
        "<sub>Andrea Gasparin and Marco Zullich, Artificial Intelligence Student Society</sub>\n",
        "\n",
        "\n",
        "## Pytorch\n",
        "\n",
        "PyTorch is a Python library offering extensive support for the construction of deep Neural Networks (NNs).\n",
        "\n",
        "One of the main characteristics of PyTorch is that it operates with **Tensors**, as they provide a significative speed up of the computations.\n",
        "\n",
        "For the scope of this introduction we can simply think at Tensors as arrays, with all the relative operations preserved as we can see in the following example.\n",
        "\n",
        "\n",
        "\n",
        "\n"
      ]
    },
    {
      "cell_type": "code",
      "metadata": {
        "colab": {
          "base_uri": "https://localhost:8080/"
        },
        "id": "apzY6W9fO8RB",
        "outputId": "95f9c76a-1b08-4362-ced8-1a0f44c7e15e"
      },
      "source": [
        "import numpy as np\n",
        "import torch\n",
        "\n",
        "tensor_A = torch.tensor([1,1,1])\n",
        "array_A  = np.array([1,1,1])\n",
        "print(tensor_A)\n",
        "print(array_A)\n",
        "print( 2 * tensor_A )\n",
        "print( 2 * array_A )\n"
      ],
      "execution_count": 1,
      "outputs": [
        {
          "output_type": "stream",
          "text": [
            "tensor([1, 1, 1])\n",
            "[1 1 1]\n",
            "tensor([2, 2, 2])\n",
            "[2 2 2]\n"
          ],
          "name": "stdout"
        }
      ]
    },
    {
      "cell_type": "markdown",
      "metadata": {
        "id": "cKHCkkN8eTST"
      },
      "source": [
        "## The images representation\n",
        "\n",
        "In our context, we will work with black and white images. They are represented as matrices containing numbers.\n",
        "\n",
        "The numbers will go from 0 (white) to the max value (black) including all the grey scale spectrum.\n",
        "\n"
      ]
    },
    {
      "cell_type": "code",
      "metadata": {
        "colab": {
          "base_uri": "https://localhost:8080/",
          "height": 286
        },
        "id": "cwQAHPoffb4J",
        "outputId": "8c03fa60-9fbd-4cf2-d322-6710510f1d2d"
      },
      "source": [
        "central_vertical_line = torch.tensor([[  0,  4,  0],\n",
        "                                      [  0,  8,  0],\n",
        "                                      [  0, 10,  0]])\n",
        "import matplotlib.pyplot as plt #plots and image viewer module\n",
        "plt.imshow(central_vertical_line, cmap=\"Greys\")"
      ],
      "execution_count": 2,
      "outputs": [
        {
          "output_type": "execute_result",
          "data": {
            "text/plain": [
              "<matplotlib.image.AxesImage at 0x7f8760cc5ee0>"
            ]
          },
          "metadata": {
            "tags": []
          },
          "execution_count": 2
        },
        {
          "output_type": "display_data",
          "data": {
            "text/plain": [
              "<Figure size 432x288 with 1 Axes>"
            ],
            "image/png": "[encoded data removed]"
          },
          "metadata": {
            "tags": [],
            "needs_background": "light"
          }
        }
      ]
    },
    {
      "cell_type": "markdown",
      "metadata": {
        "id": "cKiuHoUPPAWR"
      },
      "source": [
        "## Handwritten digit recognition (MNIST dataset)\n",
        "\n",
        "In this notebook, we'll train a simple fully-connected NN for the classification of the MNIST dataset. \n",
        "The MNIST (*modified National Institute of Standards and Technology database*) is a collection of 28x28 pixels black and white images containing handwritten digits. Let's see an example:\n",
        "\n",
        "\n"
      ]
    },
    {
      "cell_type": "code",
      "metadata": {
        "id": "Hp2nN6GhWH7p"
      },
      "source": [
        "import torchvision #the module where is stored the dataset\n",
        "\n",
        "#to improve training efficiency, data are first normalised. The \"transform\" method will do the job for us\n",
        "transform = torchvision.transforms.Compose([\n",
        "                      torchvision.transforms.ToTensor(),\n",
        "                      torchvision.transforms.Normalize((0.1307,), (0.3081,)),\n",
        "                    ])\n",
        "\n",
        "trainset = torchvision.datasets.MNIST(root=\"./data\", train=True, transform=transform, download=True)\n",
        "testset = torchvision.datasets.MNIST(root=\"./data\", train=False, transform=transform, download=True)\n",
        "\n"
      ],
      "execution_count": 3,
      "outputs": []
    },
    {
      "cell_type": "markdown",
      "metadata": {
        "id": "Ey1eEaJuafFF"
      },
      "source": [
        "**trainset.data** contains the images, represented as 28x28 matrixes of float numbers\n",
        "\n",
        "**trainset.target** contains the labels, so the numbers represented in the images"
      ]
    },
    {
      "cell_type": "code",
      "metadata": {
        "colab": {
          "base_uri": "https://localhost:8080/"
        },
        "id": "zArVjYvRagYs",
        "outputId": "00373328-5a1f-49d0-d18f-c9cffd30b3ae"
      },
      "source": [
        "print(\"trainset.data[0] is the first image; its size is:\", trainset.data[0].shape)\n",
        "print(\"the digit represented is the number: \", trainset.targets[0])\n",
        "\n",
        "# if we have a tensor composed of a single scalar, we can extract the scalar via tensor.item()\n",
        "print(\"scalar representation: \", trainset.targets[0].item())"
      ],
      "execution_count": 4,
      "outputs": [
        {
          "output_type": "stream",
          "text": [
            "trainset.data[0] is the first image; its size is: torch.Size([28, 28])\n",
            "the digit represented is the number:  tensor(5)\n",
            "scalar representation:  5\n"
          ],
          "name": "stdout"
        }
      ]
    },
    {
      "cell_type": "markdown",
      "metadata": {
        "id": "KBKs2vQBZcc1"
      },
      "source": [
        "Let's see that the image actually shows the number 5"
      ]
    },
    {
      "cell_type": "code",
      "metadata": {
        "colab": {
          "base_uri": "https://localhost:8080/",
          "height": 334
        },
        "id": "BZB3FtzYYMxg",
        "outputId": "cc119aa2-9e98-4398-baf0-c10da41ef302"
      },
      "source": [
        "print(trainset.data[0][6])\n",
        "plt.imshow(trainset.data[0], cmap='Greys')"
      ],
      "execution_count": 5,
      "outputs": [
        {
          "output_type": "stream",
          "text": [
            "tensor([  0,   0,   0,   0,   0,   0,   0,   0,  30,  36,  94, 154, 170, 253,\n",
            "        253, 253, 253, 253, 225, 172, 253, 242, 195,  64,   0,   0,   0,   0],\n",
            "       dtype=torch.uint8)\n"
          ],
          "name": "stdout"
        },
        {
          "output_type": "execute_result",
          "data": {
            "text/plain": [
              "<matplotlib.image.AxesImage at 0x7f8760596880>"
            ]
          },
          "metadata": {
            "tags": []
          },
          "execution_count": 5
        },
        {
          "output_type": "display_data",
          "data": {
            "text/plain": [
              "<Figure size 432x288 with 1 Axes>"
            ],
            "image/png": "[encoded data removed]"
          },
          "metadata": {
            "tags": [],
            "needs_background": "light"
          }
        }
      ]
    },
    {
      "cell_type": "markdown",
      "metadata": {
        "id": "wRd_EKv1m4tY"
      },
      "source": [
        "### THE TRAINING\n",
        "\n",
        "First we need to separate the images and the labels\n",
        "\n",
        "\n",
        "\n",
        "\n",
        "\n"
      ]
    },
    {
      "cell_type": "code",
      "metadata": {
        "id": "tvmmGdH_n9M4"
      },
      "source": [
        "train_imgs = trainset.data\n",
        "train_labels = trainset.targets\n",
        "test_imgs = testset.data\n",
        "test_labels = testset.targets"
      ],
      "execution_count": 6,
      "outputs": []
    },
    {
      "cell_type": "markdown",
      "metadata": {
        "id": "flXbNZ9shCEx"
      },
      "source": [
        "### Flatten the image\n",
        "\n",
        "To simplify the network flow, images are initially flattened, meaning that the corresponding matrix will be transformed in a single longer row array:"
      ]
    },
    {
      "cell_type": "code",
      "metadata": {
        "colab": {
          "base_uri": "https://localhost:8080/"
        },
        "id": "Xdruy1b9hotM",
        "outputId": "9b45edcd-19d5-4982-ec2c-f746eec28c09"
      },
      "source": [
        "central_vertical_line_flattened = central_vertical_line.flatten()\n",
        "print(\"initial matrix:\\n\",central_vertical_line)\n",
        "print(\"\\nmatrix flattened:\\n\",central_vertical_line_flattened)\n",
        "print(\"\\nmatrix shape:\",central_vertical_line.shape, \"   flattened shape:\", central_vertical_line_flattened.shape)"
      ],
      "execution_count": 7,
      "outputs": [
        {
          "output_type": "stream",
          "text": [
            "initial matrix:\n",
            " tensor([[ 0,  4,  0],\n",
            "        [ 0,  8,  0],\n",
            "        [ 0, 10,  0]])\n",
            "\n",
            "matrix flattened:\n",
            " tensor([ 0,  4,  0,  0,  8,  0,  0, 10,  0])\n",
            "\n",
            "matrix shape: torch.Size([3, 3])    flattened shape: torch.Size([9])\n"
          ],
          "name": "stdout"
        }
      ]
    },
    {
      "cell_type": "markdown",
      "metadata": {
        "id": "L3RDJ-xcqp0h"
      },
      "source": [
        "### Creating the NN\n",
        "\n",
        "We create the NN as in the image below:\n",
        "* the **input layer** has 784 neurons: this as the images have 28x28=784 numbers;\n",
        "* there are three **hidden layers**: the first one has 16 neurons, the second one has 32, the first one has 16 again;\n",
        "* the **output layer** has 10 neurons, one per class.\n",
        "\n",
        "The NN can be easily created using the `torch.nn.Sequential` method, which allows for the construction of the NN by pipelining the building blocks in a list and passing it to the Sequential constructor.\n",
        "\n",
        "We pass to Sequential the following elements:\n",
        "* we start with a `Flatten()` module since we need to flatten the 2D 28x28 images into the 784 elements 1D array\n",
        "* we alternate `Linear` layers (fully-connected layers) with `ReLU` modules (Rectified Linear Unit) activation functions\n",
        "* we conclude with a `Linear` layer withoud activation function: this will output, for each image, an array of 10 scalars, each one indicating the \"confidence\" that the network has in assigning the input image to the corresponding class. We'll assign the image to the class having the highest confidence.\n",
        "\n",
        "After this, the architecture of the NN is complete! We will then focus on telling Python how to train this NN.\n"
      ]
    },
    {
      "cell_type": "code",
      "metadata": {
        "id": "JmC_ZXSN9WMA"
      },
      "source": [
        "from torch import nn\n",
        "\n",
        "inputDimension = 784\n",
        "outputDimension = 10 # the number of classes - 10 digits from 0 to 9\n",
        "layersWidth = 16 \n",
        "\n",
        "\n",
        "network = nn.Sequential(\n",
        "    nn.Flatten(),\n",
        "    nn.Linear(inputDimension, layersWidth),\n",
        "    nn.ReLU(),\n",
        "    nn.Linear(layersWidth, layersWidth*2),\n",
        "    nn.ReLU(),\n",
        "    nn.Linear(layersWidth*2, layersWidth),\n",
        "    nn.ReLU(),\n",
        "    nn.Linear(layersWidth, outputDimension),\n",
        ")\n"
      ],
      "execution_count": 8,
      "outputs": []
    },
    {
      "cell_type": "markdown",
      "metadata": {
        "id": "YwRDLf0qsryb"
      },
      "source": [
        "### NN training\n",
        "\n",
        "We'll use vanilla mini-batch Stochastic Gradient Descent (SGD) with a learning rate of *learningRate* (you chose!!!) as the optimizer.\n",
        "\n",
        "We'll create mini-batches of size *batchSize* (i.e., we'll have 60000/*batchSize*=600 mini-batches containing our data) for the training.\n",
        "\n",
        "We'll train the NN for *epochs* epochs, each epoch indicating how many times the NN \"sees\" the whole dataset during training.\n",
        "\n",
        "The loss function we'll use is the **categorical cross-entropy** (particularly useful for non-binary classification problems) and we'll also evaluate the network on its **accuracy** (i.e., images correctly classified divided by total images).\n",
        "\n",
        "\n",
        "### *learningRate*, *batchSize*, and  *epochs* are parameters you can play with, let's see haw you can improve the accuracy!!!"
      ]
    },
    {
      "cell_type": "code",
      "metadata": {
        "id": "BPV_3B4r9mfC"
      },
      "source": [
        "#hyper parameters\n",
        "\n",
        "batchSize = 100\n",
        "learningRate = 0.1\n",
        "epochs = 3"
      ],
      "execution_count": 9,
      "outputs": []
    },
    {
      "cell_type": "markdown",
      "metadata": {
        "id": "rVOsHrurFbVl"
      },
      "source": [
        "In order to pass our data to the network, we'll make use of DataLoaders: they take care of subdividing the dataset into mini-batches, applying the requested transformations, and optionally re-shuffling them at the beginning of each new epoch."
      ]
    },
    {
      "cell_type": "code",
      "metadata": {
        "id": "z53gNQl5Dpzk"
      },
      "source": [
        "trainloader = torch.utils.data.DataLoader(trainset, batch_size=100, shuffle=True)\n",
        "testloader = torch.utils.data.DataLoader(testset, batch_size=100, shuffle=False)"
      ],
      "execution_count": 10,
      "outputs": []
    },
    {
      "cell_type": "markdown",
      "metadata": {
        "id": "5cKGXMWLrXOq"
      },
      "source": [
        "We also provide a function to compute the accuracy of the nn given its outputs and the true values of the images they are trying to classify"
      ]
    },
    {
      "cell_type": "code",
      "metadata": {
        "id": "3rWFN7MtvruR"
      },
      "source": [
        "def calculate_accuracy(nn_output, true_values):\n",
        "    class_prediction = nn_output.topk(1).indices.flatten()\n",
        "    match = (class_prediction == true_values)\n",
        "    correctly_classified = match.sum().item()\n",
        "    accuracy = correctly_classified / nn_output.size(0)\n",
        "    return accuracy"
      ],
      "execution_count": 11,
      "outputs": []
    },
    {
      "cell_type": "markdown",
      "metadata": {
        "id": "I4Rn7yX06LxL"
      },
      "source": [
        "Let's check that it works for a fictitious batch of 4 images and 3 classes.\n",
        "\n",
        "A NN output in this case will be a matrix of shape 4x3, each row holding the probability that the model assigns the corresponding image to the corresponding class.\n",
        "\n",
        "We create a fake ground truth s.t. the NN assigns correctly the first 3 images: the corresponding accuracy should then be 3/4=0.75\n"
      ]
    },
    {
      "cell_type": "markdown",
      "metadata": {
        "id": "EzUz_tOA0E8i"
      },
      "source": [
        "### Here the actual traininig"
      ]
    },
    {
      "cell_type": "code",
      "metadata": {
        "id": "1ckxFt2YSdm8",
        "colab": {
          "base_uri": "https://localhost:8080/"
        },
        "outputId": "a4b17ce9-9e72-4aeb-be80-b6e4d1567a68"
      },
      "source": [
        "lossValues = []  #to store the loss value trand during the training (we want it to DECREASE as much as possible)\n",
        "accuracy = []   #to store the accuracy  trand during the training (we want it to INCREASE as much as possible)\n",
        "lossFunction = torch.nn.CrossEntropyLoss()  #the error function the nn is trying to minimise\n",
        "\n",
        "\n",
        "\n",
        "network.train()  #this tells our nn that it is in training mode. \n",
        "optimizer = torch.optim.SGD(network.parameters(), lr=learningRate)  #the kind of optimiser we want of our nn to use\n",
        "\n",
        "# MAIN LOOP: one iteration for each epoch\n",
        "for e in range(epochs):\n",
        "    # INNER LOOP: one for each MINI-BATCH\n",
        "    for i, (imgs, ground_truth) in enumerate(trainloader): #range(num_of_batches):\n",
        "\n",
        "      optimizer.zero_grad() # VERY TECHNICAL needed in order NOT to accumulate gradients on top of the previous epochs\n",
        "      \n",
        "      predictions = network(imgs)\n",
        "\n",
        "      loss = lossFunction(predictions, ground_truth)\n",
        "      \n",
        "      loss.backward()\n",
        "      optimizer.step()\n",
        "      \n",
        "      accuracy_batch = calculate_accuracy(predictions, ground_truth)\n",
        "\n",
        "      lossValues.append(loss.item())\n",
        "      accuracy.append(accuracy_batch)\n",
        "      \n",
        "      # Every 200 iterations, we print the status of loss and accuracy\n",
        "      if (i+1)%200 == 0:\n",
        "        print(f\"***Epoch {e+1} | Iteration {i+1} | Mini-batch loss {loss.item()} | Mini-batch accuracy {accuracy_batch}\")"
      ],
      "execution_count": 12,
      "outputs": [
        {
          "output_type": "stream",
          "text": [
            "***Epoch 1 | Iteration 200 | Mini-batch loss 0.4923737049102783 | Mini-batch accuracy 0.88\n",
            "***Epoch 1 | Iteration 400 | Mini-batch loss 0.3405783176422119 | Mini-batch accuracy 0.91\n",
            "***Epoch 1 | Iteration 600 | Mini-batch loss 0.388040155172348 | Mini-batch accuracy 0.9\n",
            "***Epoch 2 | Iteration 200 | Mini-batch loss 0.5329132080078125 | Mini-batch accuracy 0.83\n",
            "***Epoch 2 | Iteration 400 | Mini-batch loss 0.17529051005840302 | Mini-batch accuracy 0.93\n",
            "***Epoch 2 | Iteration 600 | Mini-batch loss 0.2503686249256134 | Mini-batch accuracy 0.91\n",
            "***Epoch 3 | Iteration 200 | Mini-batch loss 0.17247360944747925 | Mini-batch accuracy 0.93\n",
            "***Epoch 3 | Iteration 400 | Mini-batch loss 0.14847934246063232 | Mini-batch accuracy 0.95\n",
            "***Epoch 3 | Iteration 600 | Mini-batch loss 0.15340544283390045 | Mini-batch accuracy 0.95\n"
          ],
          "name": "stdout"
        }
      ]
    },
    {
      "cell_type": "code",
      "metadata": {
        "id": "te6orMhwh3v3",
        "colab": {
          "base_uri": "https://localhost:8080/",
          "height": 282
        },
        "outputId": "c8494748-e15b-4714-fdb9-c4d41cfe0457"
      },
      "source": [
        "# Let us draw the charts for loss and accuracy for each training iteration\n",
        "plt.plot(lossValues, label=\"loss\")\n",
        "plt.plot(accuracy, label=\"accuracy\")\n",
        "plt.legend()"
      ],
      "execution_count": 13,
      "outputs": [
        {
          "output_type": "execute_result",
          "data": {
            "text/plain": [
              "<matplotlib.legend.Legend at 0x7f87576dbf10>"
            ]
          },
          "metadata": {
            "tags": []
          },
          "execution_count": 13
        },
        {
          "output_type": "display_data",
          "data": {
            "text/plain": [
              "<Figure size 432x288 with 1 Axes>"
            ],
            "image/png": "[encoded data removed]"
          },
          "metadata": {
            "tags": [],
            "needs_background": "light"
          }
        }
      ]
    },
    {
      "cell_type": "markdown",
      "metadata": {
        "id": "o3MYrif3vaks"
      },
      "source": [
        "# Check yourself\n",
        "\n",
        "Here we provide a function to pick a few images from the test set and check if the network classifies them properly"
      ]
    },
    {
      "cell_type": "code",
      "metadata": {
        "id": "glNBtiJWvBQG"
      },
      "source": [
        "def classify():\n",
        "  for i in range(5):\n",
        "    num = np.random.randint(0,test_imgs.shape[0])\n",
        "    network.eval()\n",
        "    plt.imshow(test_imgs[num])\n",
        "    plt.show()\n",
        "    print(\"Our network classifies this image as: \", network(test_imgs[num:num+1].float()).topk(1).indices.flatten().item())\n",
        "    print(\"The true value is: \", test_labels[num:num+1].item())\n",
        "    print(\"\\n\\n\")"
      ],
      "execution_count": 14,
      "outputs": []
    },
    {
      "cell_type": "code",
      "metadata": {
        "colab": {
          "base_uri": "https://localhost:8080/",
          "height": 1000
        },
        "id": "Qb69mcz_wGfK",
        "outputId": "9cfff4e2-a58b-4478-9d06-2807106f281a"
      },
      "source": [
        "classify()"
      ],
      "execution_count": 15,
      "outputs": [
        {
          "output_type": "display_data",
          "data": {
            "text/plain": [
              "<Figure size 432x288 with 1 Axes>"
            ],
            "image/png": "[encoded data removed]"
          },
          "metadata": {
            "tags": [],
            "needs_background": "light"
          }
        },
        {
          "output_type": "stream",
          "text": [
            "Our network classifies this image as:  7\n",
            "The true value is:  7\n",
            "\n",
            "\n",
            "\n"
          ],
          "name": "stdout"
        },
        {
          "output_type": "display_data",
          "data": {
            "text/plain": [
              "<Figure size 432x288 with 1 Axes>"
            ],
            "image/png": "[encoded data removed]"
          },
          "metadata": {
            "tags": [],
            "needs_background": "light"
          }
        },
        {
          "output_type": "stream",
          "text": [
            "Our network classifies this image as:  6\n",
            "The true value is:  6\n",
            "\n",
            "\n",
            "\n"
          ],
          "name": "stdout"
        },
        {
          "output_type": "display_data",
          "data": {
            "text/plain": [
              "<Figure size 432x288 with 1 Axes>"
            ],
            "image/png": "[encoded data removed]"
          },
          "metadata": {
            "tags": [],
            "needs_background": "light"
          }
        },
        {
          "output_type": "stream",
          "text": [
            "Our network classifies this image as:  6\n",
            "The true value is:  6\n",
            "\n",
            "\n",
            "\n"
          ],
          "name": "stdout"
        },
        {
          "output_type": "display_data",
          "data": {
            "text/plain": [
              "<Figure size 432x288 with 1 Axes>"
            ],
            "image/png": "[encoded data removed]"
          },
          "metadata": {
            "tags": [],
            "needs_background": "light"
          }
        },
        {
          "output_type": "stream",
          "text": [
            "Our network classifies this image as:  6\n",
            "The true value is:  6\n",
            "\n",
            "\n",
            "\n"
          ],
          "name": "stdout"
        },
        {
          "output_type": "display_data",
          "data": {
            "text/plain": [
              "<Figure size 432x288 with 1 Axes>"
            ],
            "image/png": "[encoded data removed]"
          },
          "metadata": {
            "tags": [],
            "needs_background": "light"
          }
        },
        {
          "output_type": "stream",
          "text": [
            "Our network classifies this image as:  3\n",
            "The true value is:  3\n",
            "\n",
            "\n",
            "\n"
          ],
          "name": "stdout"
        }
      ]
    }
  ]
}